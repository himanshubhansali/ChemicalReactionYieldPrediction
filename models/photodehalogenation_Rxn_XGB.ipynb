{
  "cells": [
    {
      "cell_type": "markdown",
      "metadata": {
        "id": "nkMu5NRu1GW4"
      },
      "source": [
        "# Importing Essential Libraries"
      ]
    },
    {
      "cell_type": "code",
      "execution_count": 49,
      "metadata": {
        "id": "3tFK8SyCKX3-"
      },
      "outputs": [],
      "source": [
        "import pandas as pd\n",
        "import numpy as np\n",
        "import rxnfp\n",
        "from matplotlib import pyplot as plt\n",
        "from sklearn.decomposition import PCA\n",
        "from drfp import DrfpEncoder\n",
        "from rdkit import Chem\n",
        "from rdkit.Chem import rdChemReactions"
      ]
    },
    {
      "cell_type": "markdown",
      "metadata": {
        "id": "dOrXoUw51dXI"
      },
      "source": [
        "# Data Preprocessing"
      ]
    },
    {
      "cell_type": "code",
      "execution_count": 6,
      "metadata": {
        "colab": {
          "base_uri": "https://localhost:8080/",
          "height": 661
        },
        "id": "waP-OcjnftfQ",
        "outputId": "7e769431-44a7-4182-8b77-ce7d0ed2085d"
      },
      "outputs": [
        {
          "output_type": "execute_result",
          "data": {
            "text/plain": [
              "                Reactant1                                  Reactant2  \\\n",
              "0     CC(=O)c1ccc(F)cc1Br  CCN(CC)c1ccc2OC(=O)C(=Cc2c1)c3sc4ccccc4n3   \n",
              "1     CC(=O)c1ccc(F)cc1Br  CCN(CC)c1ccc2OC(=O)C(=Cc2c1)c3sc4ccccc4n3   \n",
              "2     CC(=O)c1ccc(F)cc1Br  CCN(CC)c1ccc2OC(=O)C(=Cc2c1)c3sc4ccccc4n3   \n",
              "3     CC(=O)c1ccc(F)cc1Br  CCN(CC)c1ccc2OC(=O)C(=Cc2c1)c3sc4ccccc4n3   \n",
              "4     CC(=O)c1ccc(F)cc1Br  CCN(CC)c1ccc2OC(=O)C(=Cc2c1)c3sc4ccccc4n3   \n",
              "...                   ...                                        ...   \n",
              "1108  CC(=O)c1ccc(F)cc1Br  CCN(CC)c1ccc2OC(=O)C(=Cc2c1)c3sc4ccccc4n3   \n",
              "1109  CC(=O)c1ccc(F)cc1Br  CCN(CC)c1ccc2OC(=O)C(=Cc2c1)c3sc4ccccc4n3   \n",
              "1110  CC(=O)c1ccc(F)cc1Br  CCN(CC)c1ccc2OC(=O)C(=Cc2c1)c3sc4ccccc4n3   \n",
              "1111  CC(=O)c1ccc(F)cc1Br  CCN(CC)c1ccc2OC(=O)C(=Cc2c1)c3sc4ccccc4n3   \n",
              "1112  CC(=O)c1ccc(F)cc1Br  CCN(CC)c1ccc2OC(=O)C(=Cc2c1)c3sc4ccccc4n3   \n",
              "\n",
              "           Catalyst1                                       Catalyst2  \\\n",
              "0     O.Cl[Ir](Cl)Cl                      CC(C=C1)=CN=C1C2=CC=CC=C2F   \n",
              "1     O.Cl[Ir](Cl)Cl                        C1(C2=NC=CC=C2)=CC=CC=C1   \n",
              "2     O.Cl[Ir](Cl)Cl                      CC(C=C1)=CN=C1C2=CC=CC=C2F   \n",
              "3     O.Cl[Ir](Cl)Cl            CC(C=C1)=CN=C1C2=CC=C(OC(F)(F)F)C=C2   \n",
              "4     O.Cl[Ir](Cl)Cl              ClC1=CC=C(C2=NC(C=CC=C3)=C3O2)C=C1   \n",
              "...              ...                                             ...   \n",
              "1108  O.Cl[Ir](Cl)Cl  C1(N2CCCC2)=CC=C(C3=NC=CC(C4=CC=CC=C4)=C3)C=C1   \n",
              "1109  O.Cl[Ir](Cl)Cl                   CC(C=C1)=CN=C1C2=CC=C(OC)C=C2   \n",
              "1110  O.Cl[Ir](Cl)Cl              COC1=CC=C(C2=NC(C=CC=C3)=C3S2)C=C1   \n",
              "1111  O.Cl[Ir](Cl)Cl                   CC(C=C1)=CN=C1C2=CC=C(OC)C=C2   \n",
              "1112  O.Cl[Ir](Cl)Cl   C12=CC=C(C3=NC=CC(C4=CC=CC=C4)=C3)C=C1C=CC=C2   \n",
              "\n",
              "                                              Catalyst3          Reagent  \\\n",
              "0                                               CS(C)=O  CCN(C(C)C)C(C)C   \n",
              "1     CC1=CC(C2=CC=CC=C2)=C3C(C(N=C(C)C=C4C5=CC=CC=C...  CCN(C(C)C)C(C)C   \n",
              "2                          CC1=NC(C2=NC(C)=CC=C2)=CC=C1  CCN(C(C)C)C(C)C   \n",
              "3                  CC(C=C1)=CN=C1C2=CC=C(OC(F)(F)F)C=C2  CCN(C(C)C)C(C)C   \n",
              "4            FC(C(C=N1)=CC=C1C2=NC=C(C(F)(F)F)C=C2)(F)F  CCN(C(C)C)C(C)C   \n",
              "...                                                 ...              ...   \n",
              "1108                       CC1=CC=NC(C2=NC=CC(C)=C2)=C1  CCN(C(C)C)C(C)C   \n",
              "1109  CC1=CC(C2=CC=CC=C2)=C3C(C(N=C(C)C=C4C5=CC=CC=C...  CCN(C(C)C)C(C)C   \n",
              "1110  C12=NC=CC(C3=CC=CC=C3)=C1C=CC4=C2N=CC=C4C5=CC=...  CCN(C(C)C)C(C)C   \n",
              "1111                           C1(C2=NC=CC=C2)=CC=CC=N1  CCN(C(C)C)C(C)C   \n",
              "1112                CC1=CC=C2C(C(N=C(C)C=C3)=C3C=C2)=N1  CCN(C(C)C)C(C)C   \n",
              "\n",
              "       Solvent           Product1  \\\n",
              "0     CN(C)C=O  CC(=O)c1ccc(F)cc1   \n",
              "1     CN(C)C=O  CC(=O)c1ccc(F)cc1   \n",
              "2     CN(C)C=O  CC(=O)c1ccc(F)cc1   \n",
              "3     CN(C)C=O  CC(=O)c1ccc(F)cc1   \n",
              "4     CN(C)C=O  CC(=O)c1ccc(F)cc1   \n",
              "...        ...                ...   \n",
              "1108  CN(C)C=O  CC(=O)c1ccc(F)cc1   \n",
              "1109  CN(C)C=O  CC(=O)c1ccc(F)cc1   \n",
              "1110  CN(C)C=O  CC(=O)c1ccc(F)cc1   \n",
              "1111  CN(C)C=O  CC(=O)c1ccc(F)cc1   \n",
              "1112  CN(C)C=O  CC(=O)c1ccc(F)cc1   \n",
              "\n",
              "                                               Product2     Yield  \n",
              "0     [Br-].CCN(CC)c1ccc2OC(=O)C(=Cc2c1)c3sc4ccccc4[...   0.00535  \n",
              "1     [Br-].CCN(CC)c1ccc2OC(=O)C(=Cc2c1)c3sc4ccccc4[...  99.52525  \n",
              "2     [Br-].CCN(CC)c1ccc2OC(=O)C(=Cc2c1)c3sc4ccccc4[...   0.00535  \n",
              "3     [Br-].CCN(CC)c1ccc2OC(=O)C(=Cc2c1)c3sc4ccccc4[...  75.53502  \n",
              "4     [Br-].CCN(CC)c1ccc2OC(=O)C(=Cc2c1)c3sc4ccccc4[...   0.00535  \n",
              "...                                                 ...       ...  \n",
              "1108  [Br-].CCN(CC)c1ccc2OC(=O)C(=Cc2c1)c3sc4ccccc4[...  79.26954  \n",
              "1109  [Br-].CCN(CC)c1ccc2OC(=O)C(=Cc2c1)c3sc4ccccc4[...  51.94835  \n",
              "1110  [Br-].CCN(CC)c1ccc2OC(=O)C(=Cc2c1)c3sc4ccccc4[...  99.95206  \n",
              "1111  [Br-].CCN(CC)c1ccc2OC(=O)C(=Cc2c1)c3sc4ccccc4[...  98.36819  \n",
              "1112  [Br-].CCN(CC)c1ccc2OC(=O)C(=Cc2c1)c3sc4ccccc4[...  99.22785  \n",
              "\n",
              "[1113 rows x 10 columns]"
            ],
            "text/html": [
              "\n",
              "  <div id=\"df-2b3aa028-6e55-47df-b17c-ac14a6b5ee3e\">\n",
              "    <div class=\"colab-df-container\">\n",
              "      <div>\n",
              "<style scoped>\n",
              "    .dataframe tbody tr th:only-of-type {\n",
              "        vertical-align: middle;\n",
              "    }\n",
              "\n",
              "    .dataframe tbody tr th {\n",
              "        vertical-align: top;\n",
              "    }\n",
              "\n",
              "    .dataframe thead th {\n",
              "        text-align: right;\n",
              "    }\n",
              "</style>\n",
              "<table border=\"1\" class=\"dataframe\">\n",
              "  <thead>\n",
              "    <tr style=\"text-align: right;\">\n",
              "      <th></th>\n",
              "      <th>Reactant1</th>\n",
              "      <th>Reactant2</th>\n",
              "      <th>Catalyst1</th>\n",
              "      <th>Catalyst2</th>\n",
              "      <th>Catalyst3</th>\n",
              "      <th>Reagent</th>\n",
              "      <th>Solvent</th>\n",
              "      <th>Product1</th>\n",
              "      <th>Product2</th>\n",
              "      <th>Yield</th>\n",
              "    </tr>\n",
              "  </thead>\n",
              "  <tbody>\n",
              "    <tr>\n",
              "      <th>0</th>\n",
              "      <td>CC(=O)c1ccc(F)cc1Br</td>\n",
              "      <td>CCN(CC)c1ccc2OC(=O)C(=Cc2c1)c3sc4ccccc4n3</td>\n",
              "      <td>O.Cl[Ir](Cl)Cl</td>\n",
              "      <td>CC(C=C1)=CN=C1C2=CC=CC=C2F</td>\n",
              "      <td>CS(C)=O</td>\n",
              "      <td>CCN(C(C)C)C(C)C</td>\n",
              "      <td>CN(C)C=O</td>\n",
              "      <td>CC(=O)c1ccc(F)cc1</td>\n",
              "      <td>[Br-].CCN(CC)c1ccc2OC(=O)C(=Cc2c1)c3sc4ccccc4[...</td>\n",
              "      <td>0.00535</td>\n",
              "    </tr>\n",
              "    <tr>\n",
              "      <th>1</th>\n",
              "      <td>CC(=O)c1ccc(F)cc1Br</td>\n",
              "      <td>CCN(CC)c1ccc2OC(=O)C(=Cc2c1)c3sc4ccccc4n3</td>\n",
              "      <td>O.Cl[Ir](Cl)Cl</td>\n",
              "      <td>C1(C2=NC=CC=C2)=CC=CC=C1</td>\n",
              "      <td>CC1=CC(C2=CC=CC=C2)=C3C(C(N=C(C)C=C4C5=CC=CC=C...</td>\n",
              "      <td>CCN(C(C)C)C(C)C</td>\n",
              "      <td>CN(C)C=O</td>\n",
              "      <td>CC(=O)c1ccc(F)cc1</td>\n",
              "      <td>[Br-].CCN(CC)c1ccc2OC(=O)C(=Cc2c1)c3sc4ccccc4[...</td>\n",
              "      <td>99.52525</td>\n",
              "    </tr>\n",
              "    <tr>\n",
              "      <th>2</th>\n",
              "      <td>CC(=O)c1ccc(F)cc1Br</td>\n",
              "      <td>CCN(CC)c1ccc2OC(=O)C(=Cc2c1)c3sc4ccccc4n3</td>\n",
              "      <td>O.Cl[Ir](Cl)Cl</td>\n",
              "      <td>CC(C=C1)=CN=C1C2=CC=CC=C2F</td>\n",
              "      <td>CC1=NC(C2=NC(C)=CC=C2)=CC=C1</td>\n",
              "      <td>CCN(C(C)C)C(C)C</td>\n",
              "      <td>CN(C)C=O</td>\n",
              "      <td>CC(=O)c1ccc(F)cc1</td>\n",
              "      <td>[Br-].CCN(CC)c1ccc2OC(=O)C(=Cc2c1)c3sc4ccccc4[...</td>\n",
              "      <td>0.00535</td>\n",
              "    </tr>\n",
              "    <tr>\n",
              "      <th>3</th>\n",
              "      <td>CC(=O)c1ccc(F)cc1Br</td>\n",
              "      <td>CCN(CC)c1ccc2OC(=O)C(=Cc2c1)c3sc4ccccc4n3</td>\n",
              "      <td>O.Cl[Ir](Cl)Cl</td>\n",
              "      <td>CC(C=C1)=CN=C1C2=CC=C(OC(F)(F)F)C=C2</td>\n",
              "      <td>CC(C=C1)=CN=C1C2=CC=C(OC(F)(F)F)C=C2</td>\n",
              "      <td>CCN(C(C)C)C(C)C</td>\n",
              "      <td>CN(C)C=O</td>\n",
              "      <td>CC(=O)c1ccc(F)cc1</td>\n",
              "      <td>[Br-].CCN(CC)c1ccc2OC(=O)C(=Cc2c1)c3sc4ccccc4[...</td>\n",
              "      <td>75.53502</td>\n",
              "    </tr>\n",
              "    <tr>\n",
              "      <th>4</th>\n",
              "      <td>CC(=O)c1ccc(F)cc1Br</td>\n",
              "      <td>CCN(CC)c1ccc2OC(=O)C(=Cc2c1)c3sc4ccccc4n3</td>\n",
              "      <td>O.Cl[Ir](Cl)Cl</td>\n",
              "      <td>ClC1=CC=C(C2=NC(C=CC=C3)=C3O2)C=C1</td>\n",
              "      <td>FC(C(C=N1)=CC=C1C2=NC=C(C(F)(F)F)C=C2)(F)F</td>\n",
              "      <td>CCN(C(C)C)C(C)C</td>\n",
              "      <td>CN(C)C=O</td>\n",
              "      <td>CC(=O)c1ccc(F)cc1</td>\n",
              "      <td>[Br-].CCN(CC)c1ccc2OC(=O)C(=Cc2c1)c3sc4ccccc4[...</td>\n",
              "      <td>0.00535</td>\n",
              "    </tr>\n",
              "    <tr>\n",
              "      <th>...</th>\n",
              "      <td>...</td>\n",
              "      <td>...</td>\n",
              "      <td>...</td>\n",
              "      <td>...</td>\n",
              "      <td>...</td>\n",
              "      <td>...</td>\n",
              "      <td>...</td>\n",
              "      <td>...</td>\n",
              "      <td>...</td>\n",
              "      <td>...</td>\n",
              "    </tr>\n",
              "    <tr>\n",
              "      <th>1108</th>\n",
              "      <td>CC(=O)c1ccc(F)cc1Br</td>\n",
              "      <td>CCN(CC)c1ccc2OC(=O)C(=Cc2c1)c3sc4ccccc4n3</td>\n",
              "      <td>O.Cl[Ir](Cl)Cl</td>\n",
              "      <td>C1(N2CCCC2)=CC=C(C3=NC=CC(C4=CC=CC=C4)=C3)C=C1</td>\n",
              "      <td>CC1=CC=NC(C2=NC=CC(C)=C2)=C1</td>\n",
              "      <td>CCN(C(C)C)C(C)C</td>\n",
              "      <td>CN(C)C=O</td>\n",
              "      <td>CC(=O)c1ccc(F)cc1</td>\n",
              "      <td>[Br-].CCN(CC)c1ccc2OC(=O)C(=Cc2c1)c3sc4ccccc4[...</td>\n",
              "      <td>79.26954</td>\n",
              "    </tr>\n",
              "    <tr>\n",
              "      <th>1109</th>\n",
              "      <td>CC(=O)c1ccc(F)cc1Br</td>\n",
              "      <td>CCN(CC)c1ccc2OC(=O)C(=Cc2c1)c3sc4ccccc4n3</td>\n",
              "      <td>O.Cl[Ir](Cl)Cl</td>\n",
              "      <td>CC(C=C1)=CN=C1C2=CC=C(OC)C=C2</td>\n",
              "      <td>CC1=CC(C2=CC=CC=C2)=C3C(C(N=C(C)C=C4C5=CC=CC=C...</td>\n",
              "      <td>CCN(C(C)C)C(C)C</td>\n",
              "      <td>CN(C)C=O</td>\n",
              "      <td>CC(=O)c1ccc(F)cc1</td>\n",
              "      <td>[Br-].CCN(CC)c1ccc2OC(=O)C(=Cc2c1)c3sc4ccccc4[...</td>\n",
              "      <td>51.94835</td>\n",
              "    </tr>\n",
              "    <tr>\n",
              "      <th>1110</th>\n",
              "      <td>CC(=O)c1ccc(F)cc1Br</td>\n",
              "      <td>CCN(CC)c1ccc2OC(=O)C(=Cc2c1)c3sc4ccccc4n3</td>\n",
              "      <td>O.Cl[Ir](Cl)Cl</td>\n",
              "      <td>COC1=CC=C(C2=NC(C=CC=C3)=C3S2)C=C1</td>\n",
              "      <td>C12=NC=CC(C3=CC=CC=C3)=C1C=CC4=C2N=CC=C4C5=CC=...</td>\n",
              "      <td>CCN(C(C)C)C(C)C</td>\n",
              "      <td>CN(C)C=O</td>\n",
              "      <td>CC(=O)c1ccc(F)cc1</td>\n",
              "      <td>[Br-].CCN(CC)c1ccc2OC(=O)C(=Cc2c1)c3sc4ccccc4[...</td>\n",
              "      <td>99.95206</td>\n",
              "    </tr>\n",
              "    <tr>\n",
              "      <th>1111</th>\n",
              "      <td>CC(=O)c1ccc(F)cc1Br</td>\n",
              "      <td>CCN(CC)c1ccc2OC(=O)C(=Cc2c1)c3sc4ccccc4n3</td>\n",
              "      <td>O.Cl[Ir](Cl)Cl</td>\n",
              "      <td>CC(C=C1)=CN=C1C2=CC=C(OC)C=C2</td>\n",
              "      <td>C1(C2=NC=CC=C2)=CC=CC=N1</td>\n",
              "      <td>CCN(C(C)C)C(C)C</td>\n",
              "      <td>CN(C)C=O</td>\n",
              "      <td>CC(=O)c1ccc(F)cc1</td>\n",
              "      <td>[Br-].CCN(CC)c1ccc2OC(=O)C(=Cc2c1)c3sc4ccccc4[...</td>\n",
              "      <td>98.36819</td>\n",
              "    </tr>\n",
              "    <tr>\n",
              "      <th>1112</th>\n",
              "      <td>CC(=O)c1ccc(F)cc1Br</td>\n",
              "      <td>CCN(CC)c1ccc2OC(=O)C(=Cc2c1)c3sc4ccccc4n3</td>\n",
              "      <td>O.Cl[Ir](Cl)Cl</td>\n",
              "      <td>C12=CC=C(C3=NC=CC(C4=CC=CC=C4)=C3)C=C1C=CC=C2</td>\n",
              "      <td>CC1=CC=C2C(C(N=C(C)C=C3)=C3C=C2)=N1</td>\n",
              "      <td>CCN(C(C)C)C(C)C</td>\n",
              "      <td>CN(C)C=O</td>\n",
              "      <td>CC(=O)c1ccc(F)cc1</td>\n",
              "      <td>[Br-].CCN(CC)c1ccc2OC(=O)C(=Cc2c1)c3sc4ccccc4[...</td>\n",
              "      <td>99.22785</td>\n",
              "    </tr>\n",
              "  </tbody>\n",
              "</table>\n",
              "<p>1113 rows × 10 columns</p>\n",
              "</div>\n",
              "      <button class=\"colab-df-convert\" onclick=\"convertToInteractive('df-2b3aa028-6e55-47df-b17c-ac14a6b5ee3e')\"\n",
              "              title=\"Convert this dataframe to an interactive table.\"\n",
              "              style=\"display:none;\">\n",
              "        \n",
              "  <svg xmlns=\"http://www.w3.org/2000/svg\" height=\"24px\"viewBox=\"0 0 24 24\"\n",
              "       width=\"24px\">\n",
              "    <path d=\"M0 0h24v24H0V0z\" fill=\"none\"/>\n",
              "    <path d=\"M18.56 5.44l.94 2.06.94-2.06 2.06-.94-2.06-.94-.94-2.06-.94 2.06-2.06.94zm-11 1L8.5 8.5l.94-2.06 2.06-.94-2.06-.94L8.5 2.5l-.94 2.06-2.06.94zm10 10l.94 2.06.94-2.06 2.06-.94-2.06-.94-.94-2.06-.94 2.06-2.06.94z\"/><path d=\"M17.41 7.96l-1.37-1.37c-.4-.4-.92-.59-1.43-.59-.52 0-1.04.2-1.43.59L10.3 9.45l-7.72 7.72c-.78.78-.78 2.05 0 2.83L4 21.41c.39.39.9.59 1.41.59.51 0 1.02-.2 1.41-.59l7.78-7.78 2.81-2.81c.8-.78.8-2.07 0-2.86zM5.41 20L4 18.59l7.72-7.72 1.47 1.35L5.41 20z\"/>\n",
              "  </svg>\n",
              "      </button>\n",
              "      \n",
              "  <style>\n",
              "    .colab-df-container {\n",
              "      display:flex;\n",
              "      flex-wrap:wrap;\n",
              "      gap: 12px;\n",
              "    }\n",
              "\n",
              "    .colab-df-convert {\n",
              "      background-color: #E8F0FE;\n",
              "      border: none;\n",
              "      border-radius: 50%;\n",
              "      cursor: pointer;\n",
              "      display: none;\n",
              "      fill: #1967D2;\n",
              "      height: 32px;\n",
              "      padding: 0 0 0 0;\n",
              "      width: 32px;\n",
              "    }\n",
              "\n",
              "    .colab-df-convert:hover {\n",
              "      background-color: #E2EBFA;\n",
              "      box-shadow: 0px 1px 2px rgba(60, 64, 67, 0.3), 0px 1px 3px 1px rgba(60, 64, 67, 0.15);\n",
              "      fill: #174EA6;\n",
              "    }\n",
              "\n",
              "    [theme=dark] .colab-df-convert {\n",
              "      background-color: #3B4455;\n",
              "      fill: #D2E3FC;\n",
              "    }\n",
              "\n",
              "    [theme=dark] .colab-df-convert:hover {\n",
              "      background-color: #434B5C;\n",
              "      box-shadow: 0px 1px 3px 1px rgba(0, 0, 0, 0.15);\n",
              "      filter: drop-shadow(0px 1px 2px rgba(0, 0, 0, 0.3));\n",
              "      fill: #FFFFFF;\n",
              "    }\n",
              "  </style>\n",
              "\n",
              "      <script>\n",
              "        const buttonEl =\n",
              "          document.querySelector('#df-2b3aa028-6e55-47df-b17c-ac14a6b5ee3e button.colab-df-convert');\n",
              "        buttonEl.style.display =\n",
              "          google.colab.kernel.accessAllowed ? 'block' : 'none';\n",
              "\n",
              "        async function convertToInteractive(key) {\n",
              "          const element = document.querySelector('#df-2b3aa028-6e55-47df-b17c-ac14a6b5ee3e');\n",
              "          const dataTable =\n",
              "            await google.colab.kernel.invokeFunction('convertToInteractive',\n",
              "                                                     [key], {});\n",
              "          if (!dataTable) return;\n",
              "\n",
              "          const docLinkHtml = 'Like what you see? Visit the ' +\n",
              "            '<a target=\"_blank\" href=https://colab.research.google.com/notebooks/data_table.ipynb>data table notebook</a>'\n",
              "            + ' to learn more about interactive tables.';\n",
              "          element.innerHTML = '';\n",
              "          dataTable['output_type'] = 'display_data';\n",
              "          await google.colab.output.renderOutput(dataTable, element);\n",
              "          const docLink = document.createElement('div');\n",
              "          docLink.innerHTML = docLinkHtml;\n",
              "          element.appendChild(docLink);\n",
              "        }\n",
              "      </script>\n",
              "    </div>\n",
              "  </div>\n",
              "  "
            ]
          },
          "metadata": {},
          "execution_count": 6
        }
      ],
      "source": [
        "df=pd.read_excel('/content/Photodehalogenation.xlsx')\n",
        "df"
      ]
    },
    {
      "cell_type": "markdown",
      "source": [
        "Make_reaction smiles function used to create the reaction smiles from the photodehalogenation dataset"
      ],
      "metadata": {
        "id": "gKVwrd98R0eq"
      }
    },
    {
      "cell_type": "code",
      "source": [
        "def make_reaction_smiles(i):\n",
        "    precursors = f\" {df['Reactant1'][i]}.{df['Reactant2'][i]}.{df['Catalyst1'][i]}.{df['Catalyst2'][i]}.{df['Catalyst3'][i]}.{df['Reagent'][i]}.{df['Solvent'][i]} \"\n",
        "    product = f\" {df['Product1'][i]}.{df['Product2'][i]} \"\n",
        "    #print(precursors, product)\n",
        "    return f\"{precursors}>>{product}\"\n",
        "df['rxn']= [make_reaction_smiles(i) for i, row in df.iterrows()]\n",
        "df['y'] = df['Yield']/ 100.\n",
        "reactions_df = df[['rxn', 'y']]\n",
        "reactions_df.rxn[1]"
      ],
      "metadata": {
        "id": "AGVr6vYpVYpT",
        "colab": {
          "base_uri": "https://localhost:8080/",
          "height": 53
        },
        "outputId": "cf1ed175-85a0-4861-cbb8-e710fccf8923"
      },
      "execution_count": 8,
      "outputs": [
        {
          "output_type": "execute_result",
          "data": {
            "text/plain": [
              "' CC(=O)c1ccc(F)cc1Br.CCN(CC)c1ccc2OC(=O)C(=Cc2c1)c3sc4ccccc4n3.O.Cl[Ir](Cl)Cl.C1(C2=NC=CC=C2)=CC=CC=C1.CC1=CC(C2=CC=CC=C2)=C3C(C(N=C(C)C=C4C5=CC=CC=C5)=C4C=C3)=N1.CCN(C(C)C)C(C)C.CN(C)C=O >> CC(=O)c1ccc(F)cc1.[Br-].CCN(CC)c1ccc2OC(=O)C(=Cc2c1)c3sc4ccccc4[nH+]3 '"
            ],
            "application/vnd.google.colaboratory.intrinsic+json": {
              "type": "string"
            }
          },
          "metadata": {},
          "execution_count": 8
        }
      ]
    },
    {
      "cell_type": "markdown",
      "metadata": {
        "id": "oAIHL4SU2YEz"
      },
      "source": [
        "# Encoding the Data"
      ]
    },
    {
      "cell_type": "code",
      "execution_count": 9,
      "metadata": {
        "id": "hoQPpu1HpSf3"
      },
      "outputs": [],
      "source": [
        " X, mapping = DrfpEncoder.encode(\n",
        "            reactions_df.rxn.to_numpy(),\n",
        "            n_folded_length=2048,\n",
        "            radius=3,\n",
        "            rings=True,\n",
        "            mapping=True,\n",
        "        )\n",
        " X = np.asarray(\n",
        "            X,\n",
        "            dtype=np.float32,\n",
        "        )\n",
        " y = reactions_df.y.to_numpy()\n"
      ]
    },
    {
      "cell_type": "code",
      "execution_count": 10,
      "metadata": {
        "colab": {
          "base_uri": "https://localhost:8080/"
        },
        "id": "_RU-wPv6qk_y",
        "outputId": "dd0ab905-17c6-4a16-adf1-1d948f69afc4"
      },
      "outputs": [
        {
          "output_type": "execute_result",
          "data": {
            "text/plain": [
              "array([[0., 0., 0., ..., 0., 0., 0.],\n",
              "       [1., 0., 0., ..., 0., 0., 0.],\n",
              "       [0., 0., 0., ..., 0., 0., 0.],\n",
              "       ...,\n",
              "       [1., 0., 0., ..., 0., 0., 0.],\n",
              "       [0., 0., 0., ..., 0., 0., 0.],\n",
              "       [1., 0., 0., ..., 0., 0., 0.]], dtype=float32)"
            ]
          },
          "metadata": {},
          "execution_count": 10
        }
      ],
      "source": [
        "X"
      ]
    },
    {
      "cell_type": "markdown",
      "metadata": {
        "id": "ykf-HuF82mJa"
      },
      "source": [
        "# Importing XGB Regressor "
      ]
    },
    {
      "cell_type": "code",
      "execution_count": 11,
      "metadata": {
        "id": "APieIskoqwp-"
      },
      "outputs": [],
      "source": [
        "import pickle\n",
        "from pathlib import Path\n",
        "from typing import Tuple\n",
        "from statistics import stdev\n",
        "import numpy as np\n",
        "from xgboost import XGBRegressor\n",
        "from sklearn.metrics import r2_score"
      ]
    },
    {
      "cell_type": "markdown",
      "source": [
        "Splitting the Dataset ito train,test and valid with 85% of data is used for traning the model and other 15% is uused for validation"
      ],
      "metadata": {
        "id": "qKHn0akoSUJV"
      }
    },
    {
      "cell_type": "code",
      "execution_count": 46,
      "metadata": {
        "id": "R1C43g5eqzr4"
      },
      "outputs": [],
      "source": [
        "X_df=X[:1000]\n",
        "X_test=X[1000:]\n",
        "y_df=y[:1000]\n",
        "y_test=y[1000:]"
      ]
    },
    {
      "cell_type": "code",
      "execution_count": 66,
      "metadata": {
        "id": "yVREQK40wNcx"
      },
      "outputs": [],
      "source": [
        "from sklearn.model_selection import train_test_split\n",
        "X_train,X_valid,y_train,y_valid= train_test_split(X_df,y_df,test_size=0.3)"
      ]
    },
    {
      "cell_type": "markdown",
      "metadata": {
        "id": "FtEPosSa28kW"
      },
      "source": [
        "# Model Training"
      ]
    },
    {
      "cell_type": "markdown",
      "source": [
        "We used the same value for our hyperparameters for our XGB Regressor model ,i.e., n-estimators=999999, learning rate =0.1, max_depth=12,\n",
        "min_child_weight=8,colsample_bytree=0.6. "
      ],
      "metadata": {
        "id": "9n0EsRqkTGY7"
      }
    },
    {
      "cell_type": "code",
      "execution_count": 67,
      "metadata": {
        "colab": {
          "base_uri": "https://localhost:8080/"
        },
        "id": "BQ3lCZ_7td3s",
        "outputId": "864d4c86-7af5-4f05-ce1f-e4cc94b337b3"
      },
      "outputs": [
        {
          "output_type": "stream",
          "name": "stdout",
          "text": [
            "[19:26:51] WARNING: /workspace/src/objective/regression_obj.cu:152: reg:linear is now deprecated in favor of reg:squarederror.\n"
          ]
        },
        {
          "output_type": "execute_result",
          "data": {
            "text/plain": [
              "XGBRegressor(colsample_bytree=0.6, max_depth=12, min_child_weight=8,\n",
              "             n_estimators=999999, random_state=42, subsample=0.8)"
            ]
          },
          "metadata": {},
          "execution_count": 67
        }
      ],
      "source": [
        " model = XGBRegressor(\n",
        "                n_estimators=999999,\n",
        "                learning_rate=0.1,\n",
        "                max_depth=12,\n",
        "                min_child_weight=8,\n",
        "                colsample_bytree=0.6,\n",
        "                subsample=0.8,\n",
        "                random_state=42,\n",
        "            )\n",
        " model.fit(\n",
        "                X_train,\n",
        "                y_train,\n",
        "                eval_set=[(X_valid, y_valid)],\n",
        "                early_stopping_rounds=20,\n",
        "                verbose=False,\n",
        "            )"
      ]
    },
    {
      "cell_type": "code",
      "execution_count": 62,
      "metadata": {
        "colab": {
          "base_uri": "https://localhost:8080/"
        },
        "id": "dolIimKEv7SC",
        "outputId": "f219b5d8-ff71-45b1-c2c0-65f2dc334edf"
      },
      "outputs": [
        {
          "output_type": "execute_result",
          "data": {
            "text/plain": [
              "array([ 0.04277843,  0.45551813,  0.7449866 ,  0.9327702 ,  0.9576824 ,\n",
              "        0.94713604,  0.8893605 ,  1.0576115 ,  0.97216207,  1.1123443 ,\n",
              "        0.9279976 ,  0.3626232 ,  0.12692538,  0.4240801 ,  0.87852305,\n",
              "        0.04458624,  0.91996217,  0.9582175 ,  0.41905007,  0.95695114,\n",
              "        0.91820896,  0.70871013,  0.5821831 ,  0.0266118 ,  1.0798982 ,\n",
              "        0.9874199 ,  0.0758256 ,  0.98682886,  0.07246417,  0.9508795 ,\n",
              "        1.0062766 ,  0.29230082,  1.0043602 ,  1.0308907 ,  1.0260153 ,\n",
              "        0.8497351 ,  0.94712895,  1.0459752 ,  0.02933717,  0.9606538 ,\n",
              "        0.9550545 ,  0.9594439 ,  0.9943696 ,  0.9653412 ,  0.13587293,\n",
              "       -0.00784624,  0.6381699 ,  1.0249888 ,  0.9270716 ,  0.7634151 ,\n",
              "        0.94569874,  0.7786617 ,  0.9073272 ,  0.9576086 ,  0.6113275 ,\n",
              "        0.8190166 ,  0.82490396,  0.11890227,  0.07996953,  0.01943582,\n",
              "        0.7918837 ,  1.010791  ,  0.88028234,  0.05711615,  0.8273078 ,\n",
              "        1.017055  ,  0.04224277,  0.9188276 ,  0.88359296,  0.05763453,\n",
              "        0.04719839,  1.0428233 ,  1.0094513 ,  0.9572388 ,  0.9712602 ,\n",
              "        0.74041283,  0.8320724 ,  0.65500844,  0.41876304,  0.06337562,\n",
              "        0.02299476,  0.13064706, -0.02809936,  0.97650313,  0.8095144 ,\n",
              "        0.8003303 ,  0.92055523,  0.04829925,  0.04019979,  0.9699625 ,\n",
              "        0.9245372 ,  1.0441647 ,  0.30174488,  0.05992508,  0.06762668,\n",
              "        1.0019548 ,  0.82907474,  0.8293336 ,  1.0290301 , -0.01922804,\n",
              "       -0.00826561,  0.2849965 ,  0.0643687 ,  0.95157945,  0.8296081 ,\n",
              "        0.97999465,  1.0036184 ,  0.10784242,  0.681916  ,  0.8875356 ,\n",
              "        0.9967012 ,  0.9998003 ,  0.94828516], dtype=float32)"
            ]
          },
          "metadata": {},
          "execution_count": 62
        }
      ],
      "source": [
        "y_pred = model.predict(X_test, ntree_limit=model.best_ntree_limit)\n",
        "\n",
        "y_pred"
      ]
    },
    {
      "cell_type": "markdown",
      "source": [
        "We achieved a R2 score of 0.9097 on our first run for prediction task"
      ],
      "metadata": {
        "id": "flCrlaoMUJFQ"
      }
    },
    {
      "cell_type": "code",
      "execution_count": 63,
      "metadata": {
        "id": "CV-v41AXwC03",
        "colab": {
          "base_uri": "https://localhost:8080/"
        },
        "outputId": "4be75e5f-6a70-4345-96b1-b3d7a8ec77e0"
      },
      "outputs": [
        {
          "output_type": "execute_result",
          "data": {
            "text/plain": [
              "0.9168452142614621"
            ]
          },
          "metadata": {},
          "execution_count": 63
        }
      ],
      "source": [
        "r_squared=r2_score(y_test,y_pred)\n",
        "r_squared"
      ]
    }
  ],
  "metadata": {
    "colab": {
      "collapsed_sections": [],
      "name": "photodehalogenation Dataset Rxn XGB.ipynb",
      "provenance": []
    },
    "kernelspec": {
      "display_name": "Python 3",
      "name": "python3"
    },
    "language_info": {
      "name": "python"
    }
  },
  "nbformat": 4,
  "nbformat_minor": 0
}